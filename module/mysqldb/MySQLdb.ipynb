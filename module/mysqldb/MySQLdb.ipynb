{
 "metadata": {
  "name": ""
 },
 "nbformat": 3,
 "nbformat_minor": 0,
 "worksheets": [
  {
   "cells": [
    {
     "cell_type": "heading",
     "level": 2,
     "metadata": {},
     "source": [
      "MySQLdb"
     ]
    },
    {
     "cell_type": "code",
     "collapsed": false,
     "input": [
      "import MySQLdb\n",
      "\n",
      "db = MySQLdb.connect(host = 'localhost', user = 'root', db = 'zhihu')\n",
      "cursor = db.cursor()\n",
      "\n",
      "cursor.execute('SELECT VERSION()')\n",
      "result = cursor.fetchall()\n",
      "\n",
      "print result[0]"
     ],
     "language": "python",
     "metadata": {},
     "outputs": [
      {
       "output_type": "stream",
       "stream": "stdout",
       "text": [
        "('5.5.43-0ubuntu0.14.04.1',)\n"
       ]
      }
     ],
     "prompt_number": 6
    },
    {
     "cell_type": "code",
     "collapsed": false,
     "input": [
      "cursor.execute('SHOW DATABASES')\n",
      "result = cursor.fetchall()\n",
      "\n",
      "print result"
     ],
     "language": "python",
     "metadata": {},
     "outputs": [
      {
       "output_type": "stream",
       "stream": "stdout",
       "text": [
        "(('information_schema',), ('mysql',), ('performance_schema',), ('test',), ('zhihu',))\n"
       ]
      }
     ],
     "prompt_number": 8
    },
    {
     "cell_type": "code",
     "collapsed": false,
     "input": [
      "cursor.execute('USE zhihu')"
     ],
     "language": "python",
     "metadata": {},
     "outputs": [
      {
       "metadata": {},
       "output_type": "pyout",
       "prompt_number": 10,
       "text": [
        "0L"
       ]
      }
     ],
     "prompt_number": 10
    },
    {
     "cell_type": "code",
     "collapsed": false,
     "input": [
      "cursor.execute('SHOW tables')"
     ],
     "language": "python",
     "metadata": {},
     "outputs": [
      {
       "metadata": {},
       "output_type": "pyout",
       "prompt_number": 36,
       "text": [
        "1L"
       ]
      }
     ],
     "prompt_number": 36
    },
    {
     "cell_type": "code",
     "collapsed": false,
     "input": [
      "sql = '''CREATE TABLE test(\n",
      "        id TINYINT UNSIGNED PRIMARY KEY AUTO_INCREMENT,\n",
      "        username VARCHAR(20),\n",
      "        sex TINYINT\n",
      "        )'''\n",
      "cursor.execute(sql)"
     ],
     "language": "python",
     "metadata": {},
     "outputs": [
      {
       "metadata": {},
       "output_type": "pyout",
       "prompt_number": 24,
       "text": [
        "0L"
       ]
      }
     ],
     "prompt_number": 24
    },
    {
     "cell_type": "code",
     "collapsed": false,
     "input": [
      "result = cursor.execute('SHOW COLUMNS FROM test')\n",
      "print result"
     ],
     "language": "python",
     "metadata": {},
     "outputs": [
      {
       "output_type": "stream",
       "stream": "stdout",
       "text": [
        "3\n"
       ]
      }
     ],
     "prompt_number": 29
    },
    {
     "cell_type": "code",
     "collapsed": false,
     "input": [
      "cursor.execute('DROP TABLE test')"
     ],
     "language": "python",
     "metadata": {},
     "outputs": [
      {
       "metadata": {},
       "output_type": "pyout",
       "prompt_number": 23,
       "text": [
        "0L"
       ]
      }
     ],
     "prompt_number": 23
    },
    {
     "cell_type": "heading",
     "level": 3,
     "metadata": {},
     "source": [
      "INSERT"
     ]
    },
    {
     "cell_type": "code",
     "collapsed": false,
     "input": [
      "sql_insert = '''INSERT INTO test(id, username, sex)\n",
      "             VALUES (NULL, 'Mohan', )'''\n",
      "cursor.execute(sql_insert)"
     ],
     "language": "python",
     "metadata": {},
     "outputs": [
      {
       "metadata": {},
       "output_type": "pyout",
       "prompt_number": 31,
       "text": [
        "1L"
       ]
      }
     ],
     "prompt_number": 31
    },
    {
     "cell_type": "code",
     "collapsed": false,
     "input": [
      "sql_insert = '''INSERT test VALUES (NULL, 'Mohan', 1)'''\n",
      "cursor.execute(sql_insert)\n",
      "db.commit()"
     ],
     "language": "python",
     "metadata": {},
     "outputs": [],
     "prompt_number": 37
    },
    {
     "cell_type": "code",
     "collapsed": false,
     "input": [
      "cursor.execute('SHOW COLUMNS FROM test')"
     ],
     "language": "python",
     "metadata": {},
     "outputs": [
      {
       "metadata": {},
       "output_type": "pyout",
       "prompt_number": 38,
       "text": [
        "3L"
       ]
      }
     ],
     "prompt_number": 38
    },
    {
     "cell_type": "heading",
     "level": 3,
     "metadata": {},
     "source": [
      "INSERT"
     ]
    },
    {
     "cell_type": "code",
     "collapsed": false,
     "input": [
      "sql_insert = '''INSERT INTO test(id, username, sex)\n",
      "             VALUES (NULL, 'Mary', 0)'''\n",
      "cursor.execute(sql_insert)\n",
      "db.commit()"
     ],
     "language": "python",
     "metadata": {},
     "outputs": [],
     "prompt_number": 39
    },
    {
     "cell_type": "heading",
     "level": 3,
     "metadata": {},
     "source": [
      "INSERT"
     ]
    },
    {
     "cell_type": "code",
     "collapsed": false,
     "input": [
      "# null = 'NULL'\n",
      "sql_insert = \"INSERT INTO test(id, username, sex)\\\n",
      "            VALUES ('%s', '%s', '%d')\" \\\n",
      "            %('NULL', 'Panda', 1)\n",
      "cursor.execute(sql_insert)\n",
      "db.commit()"
     ],
     "language": "python",
     "metadata": {},
     "outputs": [],
     "prompt_number": 49
    },
    {
     "cell_type": "code",
     "collapsed": false,
     "input": [
      "cursor.execute('SHOW COLUMNS FROM test')\n",
      "result = cursor.fetchall\n",
      "print result"
     ],
     "language": "python",
     "metadata": {},
     "outputs": [
      {
       "output_type": "stream",
       "stream": "stdout",
       "text": [
        "<bound method Cursor.fetchall of <MySQLdb.cursors.Cursor object at 0x7f9560195f50>>\n"
       ]
      }
     ],
     "prompt_number": 50
    },
    {
     "cell_type": "heading",
     "level": 3,
     "metadata": {},
     "source": [
      "INSERT"
     ]
    },
    {
     "cell_type": "code",
     "collapsed": false,
     "input": [
      "dict = {'name': 'William', 'sex': 1}\n",
      "sql_insert = \"INSERT INTO test(id, username, sex)\\\n",
      "            VALUES ('%s', '%s', '%d')\" \\\n",
      "            %('NULL', dict['name'], dict['sex'])\n",
      "cursor.execute(sql_insert)\n",
      "db.commit()"
     ],
     "language": "python",
     "metadata": {},
     "outputs": [],
     "prompt_number": 54
    },
    {
     "cell_type": "code",
     "collapsed": false,
     "input": [],
     "language": "python",
     "metadata": {},
     "outputs": []
    }
   ],
   "metadata": {}
  }
 ]
}